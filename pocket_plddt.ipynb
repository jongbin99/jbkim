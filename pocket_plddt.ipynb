{
 "cells": [
  {
   "cell_type": "code",
   "execution_count": 2,
   "id": "cbb28b4d-c3e2-4018-a211-609816cc9fd5",
   "metadata": {},
   "outputs": [],
   "source": [
    "import json\n",
    "import os\n",
    "import csv\n",
    "import glob\n",
    "import pandas as pd\n",
    "import matplotlib.pyplot as plt\n",
    "import numpy as np\n",
    "import seaborn as sns"
   ]
  },
  {
   "cell_type": "code",
   "execution_count": 4,
   "id": "cdef537b-dce2-4a02-b866-e27ac24e8246",
   "metadata": {},
   "outputs": [
    {
     "name": "stdout",
     "output_type": "stream",
     "text": [
      "[INFO] Pocket-pLDDT results saved to /Users/JB/Rotation_bkslab/250203_alphafold3/pocket_plddt.csv\n"
     ]
    }
   ],
   "source": [
    "# Input and Output directories\n",
    "input_dir = \"/Users/JB/Rotation_bkslab/250203_alphafold3/JSON_files\"\n",
    "output_dir = \"/Users/JB/Rotation_bkslab/250203_alphafold3/JSON_pocket\"\n",
    "csv_file = \"/Users/JB/Rotation_bkslab/250203_alphafold3/pocket_plddt.csv\"\n",
    "os.makedirs(output_dir, exist_ok=True)\n",
    "\n",
    "total_plddt = []\n",
    "\n",
    "for json_file in glob.glob(os.path.join(input_dir, \"*.json\")):\n",
    "    with open(json_file, \"r\") as file:\n",
    "        data = json.load(file)\n",
    "    atom_chain_ids = data.get(\"atom_chain_ids\", [])\n",
    "    atom_plddts = data.get(\"atom_plddts\", [])\n",
    "    ref_prefix = os.path.splitext((os.path.basename(json_file)))[0]\n",
    "\n",
    "    filtered_chain_ids = []\n",
    "    filtered_plddts = []\n",
    "    \n",
    "    for i, (chain_id, plddt) in enumerate(zip(atom_chain_ids, atom_plddts)):\n",
    "        if chain_id == \"A\" and (147 <= i <= 167 or 347 <= i <= 357 or 367 <= i <= 371 or 914 <= i <= 928 or 943 <= i <= 951 or 1133 <= i <= 1163 or 1181 <= i <= 1188):\n",
    "            filtered_chain_ids.append(chain_id)\n",
    "            filtered_plddts.append(plddt)\n",
    "    \n",
    "    average_plddt = sum(filtered_plddts) / len(filtered_plddts) if filtered_plddts else 0\n",
    "    \n",
    "    data[\"atom_chain_ids\"] = filtered_chain_ids\n",
    "    data[\"atom_plddts\"] = filtered_plddts\n",
    "    data[\"average_plddt\"] = average_plddt\n",
    "    total_plddt.append([ref_prefix, average_plddt])\n",
    "    \n",
    "    # Generate the output file path\n",
    "    output_file_path = os.path.join(output_dir, os.path.basename(json_file))\n",
    "\n",
    "    # Save the modified JSON\n",
    "    with open(output_file_path, \"w\") as output_file:\n",
    "        json.dump(data, output_file, indent=4)\n",
    "\n",
    "# Save results to CSV\n",
    "with open(csv_file, \"w\", newline=\"\") as csvfile:\n",
    "    writer = csv.writer(csvfile)\n",
    "    writer.writerow([\"Protein\", \"Pocket-pLDDT\"])\n",
    "    writer.writerows(total_plddt)\n",
    "\n",
    "print(f\"[INFO] Pocket-pLDDT results saved to {csv_file}\")"
   ]
  },
  {
   "cell_type": "code",
   "execution_count": 49,
   "id": "a676d0ce-f128-455b-83f4-0669335bc94f",
   "metadata": {},
   "outputs": [],
   "source": [
    "csv_file = \"/Users/JB/Rotation_bkslab/250203_alphafold3/ligand_plddt.csv\"\n",
    "input_dir = \"/Users/JB/Rotation_bkslab/250203_alphafold3/JSON_ligands\"\n",
    "\n",
    "for json_file in glob.glob(os.path.join(input_dir, \"*.json\")):\n",
    "    with open(json_file, \"r\") as file:\n",
    "        data = json.load(file)"
   ]
  }
 ],
 "metadata": {
  "kernelspec": {
   "display_name": "Python 3 (ipykernel)",
   "language": "python",
   "name": "python3"
  },
  "language_info": {
   "codemirror_mode": {
    "name": "ipython",
    "version": 3
   },
   "file_extension": ".py",
   "mimetype": "text/x-python",
   "name": "python",
   "nbconvert_exporter": "python",
   "pygments_lexer": "ipython3",
   "version": "3.12.2"
  }
 },
 "nbformat": 4,
 "nbformat_minor": 5
}

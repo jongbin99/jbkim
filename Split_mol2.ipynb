{
 "cells": [
  {
   "cell_type": "code",
   "execution_count": 1,
   "id": "968c062e-98bf-49d6-8602-c95f0cd13c34",
   "metadata": {},
   "outputs": [
    {
     "name": "stdout",
     "output_type": "stream",
     "text": [
      "✅ Saved: /Users/JB/Rotation_bkslab/Mac1_docked_poses/mac-x3961.mol2\n",
      "\n",
      "✅ All ligands have been separated into individual MOL2 files.\n"
     ]
    }
   ],
   "source": [
    "import os\n",
    "\n",
    "# Input multi-molecule MOL2 file\n",
    "input_mol2 = \"/Users/JB/Rotation_bkslab/poses.mol2\"\n",
    "output_dir = \"/Users/JB/Rotation_bkslab/Mac1_docked_poses\"\n",
    "\n",
    "# Ensure output directory exists\n",
    "os.makedirs(output_dir, exist_ok=True)\n",
    "\n",
    "# Read and process the MOL2 file\n",
    "with open(input_mol2, \"r\") as file:\n",
    "    ligand_data = []\n",
    "    ligand_name = None\n",
    "\n",
    "    for line in file:\n",
    "        # Detect new ligand by finding \"Name: \"\n",
    "        if line.startswith(\"##########                 Name:\"):\n",
    "            # Save the previous ligand (if it exists)\n",
    "            if ligand_name and ligand_data:\n",
    "                output_file = os.path.join(output_dir, f\"{ligand_name}.mol2\")\n",
    "                with open(output_file, \"w\") as out:\n",
    "                    out.writelines(ligand_data)\n",
    "\n",
    "            # Start a new ligand entry\n",
    "            ligand_name = line.split(\"Name: \")[1].strip()  # Extract ligand name\n",
    "            ligand_data = [line]  # Start new data storage\n",
    "\n",
    "        else:\n",
    "            # Continue storing lines for the current ligand\n",
    "            ligand_data.append(line)\n",
    "\n",
    "    # Save the last ligand in the file\n",
    "    if ligand_name and ligand_data:\n",
    "        output_file = os.path.join(output_dir, f\"{ligand_name}.mol2\")\n",
    "        with open(output_file, \"w\") as out:\n",
    "            out.writelines(ligand_data)\n",
    "        print(f\"✅ Saved: {output_file}\")\n",
    "\n",
    "print(\"\\n✅ All ligands have been separated into individual MOL2 files.\")"
   ]
  }
 ],
 "metadata": {
  "kernelspec": {
   "display_name": "Python 3 (ipykernel)",
   "language": "python",
   "name": "python3"
  },
  "language_info": {
   "codemirror_mode": {
    "name": "ipython",
    "version": 3
   },
   "file_extension": ".py",
   "mimetype": "text/x-python",
   "name": "python",
   "nbconvert_exporter": "python",
   "pygments_lexer": "ipython3",
   "version": "3.12.2"
  }
 },
 "nbformat": 4,
 "nbformat_minor": 5
}

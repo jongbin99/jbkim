{
 "cells": [
  {
   "cell_type": "code",
   "execution_count": 2,
   "id": "eb58e8f6-44b8-446a-9fac-032c9bcd0a2b",
   "metadata": {},
   "outputs": [
    {
     "ename": "AttributeError",
     "evalue": "'str' object has no attribute 'iloc'",
     "output_type": "error",
     "traceback": [
      "\u001b[0;31m---------------------------------------------------------------------------\u001b[0m",
      "\u001b[0;31mAttributeError\u001b[0m                            Traceback (most recent call last)",
      "Cell \u001b[0;32mIn[2], line 5\u001b[0m\n\u001b[1;32m      1\u001b[0m list_smi \u001b[38;5;241m=\u001b[39m []\n\u001b[1;32m      3\u001b[0m file \u001b[38;5;241m=\u001b[39m \u001b[38;5;124m\"\u001b[39m\u001b[38;5;124m/Users/JB/Rotation_bkslab/250203_alphafold3/20241209_mac1.xlsx\u001b[39m\u001b[38;5;124m\"\u001b[39m\n\u001b[0;32m----> 5\u001b[0m smiles \u001b[38;5;241m=\u001b[39m file\u001b[38;5;241m.\u001b[39miloc[:, \u001b[38;5;241m7\u001b[39m]\n\u001b[1;32m      7\u001b[0m \u001b[38;5;28;01mfor\u001b[39;00m smile \u001b[38;5;129;01min\u001b[39;00m smiles:\n\u001b[1;32m      8\u001b[0m     list_smi\u001b[38;5;241m.\u001b[39mappend(smile)\n",
      "\u001b[0;31mAttributeError\u001b[0m: 'str' object has no attribute 'iloc'"
     ]
    }
   ],
   "source": [
    "list_smi = []\n",
    "\n",
    "file = \"/Users/JB/Rotation_bkslab/250203_alphafold3/20241209_mac1.xlsx\"\n",
    "\n",
    "smiles = file.iloc[:, 7]\n",
    "\n",
    "for smile in smiles:\n",
    "    list_smi.append(smile)\n",
    "\n",
    "print(list_smi)"
   ]
  },
  {
   "cell_type": "code",
   "execution_count": null,
   "id": "eacb8917-637d-431b-9bd3-f17c6d4c1770",
   "metadata": {},
   "outputs": [],
   "source": [
    "from rdkit import Chem\n",
    "from rdkit.Chem import AllChem, DataStructs\n",
    "import numpy as np\n",
    "from sklearn.metrics import pairwise_distances\n",
    "\n",
    "smiles_list = [\"CCO\", \"CCN\", \"CCC\", \"CCOCC\"]\n",
    "\n",
    "molecules = [Chem.MolFromSmiles(smiles) for smiles in smiles_list]\n",
    "fingerprints = [AllChem.GetMorganFingerprintAsBitVect(mol, radius=2, nBits=1024) for mol in molecules]\n",
    "fingerprints_array = np.array([list(fp) for fp in fingerprints])\n",
    "tanimoto_distances = pairwise_distances(fingerprints_array, metric='jaccard')\n",
    "\n",
    "# Print the Tanimoto distance matrix\n",
    "print(\"Pairwise Tanimoto Distance Matrix:\")\n",
    "print(tanimoto_distances)\n"
   ]
  }
 ],
 "metadata": {
  "kernelspec": {
   "display_name": "Python 3 (ipykernel)",
   "language": "python",
   "name": "python3"
  },
  "language_info": {
   "codemirror_mode": {
    "name": "ipython",
    "version": 3
   },
   "file_extension": ".py",
   "mimetype": "text/x-python",
   "name": "python",
   "nbconvert_exporter": "python",
   "pygments_lexer": "ipython3",
   "version": "3.12.2"
  }
 },
 "nbformat": 4,
 "nbformat_minor": 5
}

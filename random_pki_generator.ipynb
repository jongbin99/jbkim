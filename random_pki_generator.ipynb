{
 "cells": [
  {
   "cell_type": "code",
   "execution_count": 15,
   "id": "2c5b9995-977a-4198-acca-c988a4f2ef3f",
   "metadata": {},
   "outputs": [],
   "source": [
    "import random\n",
    "import pandas as pd\n",
    "import csv"
   ]
  },
  {
   "cell_type": "code",
   "execution_count": 27,
   "id": "369621c1-5a73-44f2-b31b-39973ee31aea",
   "metadata": {},
   "outputs": [],
   "source": [
    "def random_3sig():\n",
    "    num = random.uniform(1, 5.2) #range of pKi that we can run randomizer in\n",
    "    return (num)\n",
    "\n",
    "random_numbers = [random_3sig() for _ in range(164)] #select the number of random pKi values to generate\n",
    "\n",
    "rows = [[i, value] for i, value in enumerate(random_numbers, start=1)]\n",
    "\n",
    "output_csv = \"/Users/JB/Rotation_bkslab/ampC_sigma/random_pki.csv\" #save the results in a column of csv file\n",
    "\n",
    "with open(output_csv, \"w\", newline=\"\") as csvfile:\n",
    "    writer = csv.writer(csvfile)\n",
    "    writer.writerow([\"ID\", \"pKi\"])\n",
    "    writer.writerows(rows)"
   ]
  }
 ],
 "metadata": {
  "kernelspec": {
   "display_name": "Python 3 (ipykernel)",
   "language": "python",
   "name": "python3"
  },
  "language_info": {
   "codemirror_mode": {
    "name": "ipython",
    "version": 3
   },
   "file_extension": ".py",
   "mimetype": "text/x-python",
   "name": "python",
   "nbconvert_exporter": "python",
   "pygments_lexer": "ipython3",
   "version": "3.12.2"
  }
 },
 "nbformat": 4,
 "nbformat_minor": 5
}

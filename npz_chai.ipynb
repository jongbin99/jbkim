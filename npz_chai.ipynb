{
 "cells": [
  {
   "cell_type": "code",
   "execution_count": null,
   "id": "5c9193a0-9b00-4bfc-9237-624f9946b8a3",
   "metadata": {},
   "outputs": [],
   "source": [
    "\"All the chai-1 outputs for scoring metrics will be generated into a .csv file\""
   ]
  },
  {
   "cell_type": "code",
   "execution_count": null,
   "id": "1e80105d-7f56-41ca-8de1-270a7b0d902f",
   "metadata": {},
   "outputs": [],
   "source": [
    "import os\n",
    "import glob\n",
    "import numpy as np\n",
    "import pandas as pd\n",
    "import csv"
   ]
  },
  {
   "cell_type": "code",
   "execution_count": 2,
   "id": "362263db-24c5-4bf5-99a5-7e7ec17e8c21",
   "metadata": {},
   "outputs": [],
   "source": [
    "base_directory = \"/Users/JB/Rotation_bkslab/250130_chaifold\" # Change this to a directory with all Chai-1 outputs\n",
    "output_file = \"/Users/JB/Rotation_bkslab/250130_chaifold/chai_scores_idx_0.xlsx\" #Make an excel file where all the results will be saved.\n",
    "\n",
    "out_folders = [folder for folder in glob.glob(os.path.join(base_directory, \"*.out\")) if os.path.isdir(folder)]\n",
    "\n",
    "data_list = []\n",
    "\n",
    "for out_folder in out_folders:\n",
    "    npz_file_path = os.path.join(out_folder, \"scores.model_idx_0.npz\")\n",
    "    data = np.load(npz_file_path)\n",
    "\n",
    "    aggregate_score = data.get('aggregate_score', np.nan)\n",
    "    iptm = data.get('iptm', np.nan)\n",
    "    ptm = data.get('ptm', np.nan)\n",
    "    per_chain_ptm = data.get('per_chain_ptm', np.nan)\n",
    "    per_chain_pair_iptm = data.get('per_chain_pair_iptm', np.nan)\n",
    "    has_inter_chain_clashes = data.get('has_inter_chain_clashes', np.nan)\n",
    "    chain_chain_clashes = data.get('chain_chain_clashes', np.nan)\n",
    "\n",
    "    data_list.append({\n",
    "        \"Index\": os.path.basename(out_folder),\n",
    "        \"Aggregate Score\": aggregate_score,\n",
    "        \"iPTM\": iptm,\n",
    "        \"pTM\": ptm,\n",
    "        \"pTM per chain\": per_chain_ptm,\n",
    "        \"iPTM per chain pair\": per_chain_pair_iptm,\n",
    "        \"Interchain clash?\": has_inter_chain_clashes,\n",
    "        \"Matrix chain-chain clashes\": chain_chain_clashes\n",
    "    })\n",
    "\n",
    "Chai_output_scores = pd.DataFrame(data_list)\n",
    "Chai_output_scores.to_excel(output_file, index=False)"
   ]
  },
  {
   "cell_type": "code",
   "execution_count": 6,
   "id": "c0c5eb62-bf70-41c7-8dab-0fc765e27c1f",
   "metadata": {},
   "outputs": [
    {
     "name": "stdout",
     "output_type": "stream",
     "text": [
      "Keys in the NPZ file: ['aggregate_score', 'ptm', 'iptm', 'per_chain_ptm', 'per_chain_pair_iptm', 'has_inter_chain_clashes', 'chain_chain_clashes']\n",
      "\n",
      "--- aggregate_score ---\n",
      "[0.8695203]\n",
      "\n",
      "--- ptm ---\n",
      "[0.95707834]\n",
      "\n",
      "--- iptm ---\n",
      "[0.8476308]\n",
      "\n",
      "--- per_chain_ptm ---\n",
      "[[0.95399    0.63493437]]\n",
      "\n",
      "--- per_chain_pair_iptm ---\n",
      "[[[0.95399    0.44597793]\n",
      "  [0.8476308  0.63493437]]]\n",
      "\n",
      "--- has_inter_chain_clashes ---\n",
      "[False]\n",
      "\n",
      "--- chain_chain_clashes ---\n",
      "[[[0 0]\n",
      "  [0 0]]]\n"
     ]
    }
   ],
   "source": [
    "#Designate a file path to one of .npz file and check what are the output contents available for each dataset.\n",
    "file_path = \"/Users/JB/Rotation_bkslab/250115_chaifold/Chai_output/mac-x2820.out/scores.model_idx_0.npz\"\n",
    "data = np.load(file_path)\n",
    "\n",
    "print(\"Keys in the NPZ file:\", data.files)\n",
    "\n",
    "for key in data.files:\n",
    "    print(f\"\\n--- {key} ---\")\n",
    "    print(data[key])"
   ]
  }
 ],
 "metadata": {
  "kernelspec": {
   "display_name": "Python 3 (ipykernel)",
   "language": "python",
   "name": "python3"
  },
  "language_info": {
   "codemirror_mode": {
    "name": "ipython",
    "version": 3
   },
   "file_extension": ".py",
   "mimetype": "text/x-python",
   "name": "python",
   "nbconvert_exporter": "python",
   "pygments_lexer": "ipython3",
   "version": "3.12.2"
  }
 },
 "nbformat": 4,
 "nbformat_minor": 5
}

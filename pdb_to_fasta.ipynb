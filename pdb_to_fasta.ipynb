{
 "cells": [
  {
   "cell_type": "code",
   "execution_count": 13,
   "id": "2efcf29e-41a6-4c71-91cb-74139a0dce7c",
   "metadata": {},
   "outputs": [
    {
     "name": "stdout",
     "output_type": "stream",
     "text": [
      "Requirement already satisfied: pandas in ./chaid_env/lib/python3.10/site-packages (2.2.3)\n",
      "Collecting openpyxl\n",
      "  Downloading openpyxl-3.1.5-py2.py3-none-any.whl.metadata (2.5 kB)\n",
      "Requirement already satisfied: numpy>=1.22.4 in ./chaid_env/lib/python3.10/site-packages (from pandas) (1.26.4)\n",
      "Requirement already satisfied: python-dateutil>=2.8.2 in ./chaid_env/lib/python3.10/site-packages (from pandas) (2.9.0.post0)\n",
      "Requirement already satisfied: pytz>=2020.1 in ./chaid_env/lib/python3.10/site-packages (from pandas) (2024.2)\n",
      "Requirement already satisfied: tzdata>=2022.7 in ./chaid_env/lib/python3.10/site-packages (from pandas) (2024.2)\n",
      "Collecting et-xmlfile (from openpyxl)\n",
      "  Downloading et_xmlfile-2.0.0-py3-none-any.whl.metadata (2.7 kB)\n",
      "Requirement already satisfied: six>=1.5 in ./chaid_env/lib/python3.10/site-packages (from python-dateutil>=2.8.2->pandas) (1.17.0)\n",
      "Downloading openpyxl-3.1.5-py2.py3-none-any.whl (250 kB)\n",
      "Downloading et_xmlfile-2.0.0-py3-none-any.whl (18 kB)\n",
      "Installing collected packages: et-xmlfile, openpyxl\n",
      "Successfully installed et-xmlfile-2.0.0 openpyxl-3.1.5\n",
      "Note: you may need to restart the kernel to use updated packages.\n"
     ]
    }
   ],
   "source": [
    "pip install pandas openpyxl"
   ]
  },
  {
   "cell_type": "code",
   "execution_count": 20,
   "id": "e1e1de29-cac0-4bdd-b84e-57b94d16e71f",
   "metadata": {},
   "outputs": [],
   "source": [
    "import pandas as pd\n",
    "\n",
    "#We have a default fasta file with Mac1 sequence. SMILES will be concatenated.\n",
    "def concatenate_fasta(input_fasta, excel_file, output_dir):\n",
    "    #Read SMILES from the excel file\n",
    "    df = pd.read_excel(excel_file)\n",
    "\n",
    "    #Read the original FASTA\n",
    "    with open(input_fasta, 'r') as infile:\n",
    "        fasta_content = infile.read().strip()\n",
    "\n",
    "    #To iterate over rows of 560 SMILES...\n",
    "    for index, row in df.iterrows():\n",
    "        smiles = row['SMILES']\n",
    "        name = row['Dataset_ID']\n",
    "        ligand = row['Ligand_ID']\n",
    "        output_file = f\"{output_dir}/{name}.fasta\"\n",
    "\n",
    "        #New FASTA file\n",
    "        with open(output_file, 'w') as outfile:\n",
    "            outfile.write(f\"{fasta_content}{ligand}\\n{smiles}\\n\")\n"
   ]
  },
  {
   "cell_type": "code",
   "execution_count": 21,
   "id": "388c2780-13b0-4843-89da-fcacd37e3b66",
   "metadata": {},
   "outputs": [],
   "source": [
    "concatenate_fasta(\"/Users/JB/Mac1_fasta/masterfasta.fasta\", \"/Users/JB/20241209_mac1.xlsx\", \"/Users/JB/Mac1_fasta\")"
   ]
  },
  {
   "cell_type": "code",
   "execution_count": null,
   "id": "14509fa9-43ca-45f7-a0ef-b7f13f976465",
   "metadata": {},
   "outputs": [],
   "source": []
  }
 ],
 "metadata": {
  "kernelspec": {
   "display_name": "Python 3 (ipykernel)",
   "language": "python",
   "name": "python3"
  },
  "language_info": {
   "codemirror_mode": {
    "name": "ipython",
    "version": 3
   },
   "file_extension": ".py",
   "mimetype": "text/x-python",
   "name": "python",
   "nbconvert_exporter": "python",
   "pygments_lexer": "ipython3",
   "version": "3.10.15"
  }
 },
 "nbformat": 4,
 "nbformat_minor": 5
}

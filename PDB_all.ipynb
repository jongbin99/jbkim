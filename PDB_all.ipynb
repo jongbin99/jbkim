{
 "cells": [
  {
   "cell_type": "code",
   "execution_count": 1,
   "id": "879efd87-8e85-4635-8b7f-967a274aa361",
   "metadata": {},
   "outputs": [
    {
     "name": "stdout",
     "output_type": "stream",
     "text": [
      "Merged file saved as: /Users/JB/Rotation_bkslab/PDB/list_file.txt\n"
     ]
    }
   ],
   "source": [
    "import os\n",
    "import pandas as pd\n",
    "\n",
    "# Set the directory containing the text files\n",
    "directory = \"/Users/JB/Rotation_bkslab/PDB\"\n",
    "\n",
    "text_files = [f for f in os.listdir(directory) if f.endswith(\".txt\")]\n",
    "list_pdb = []\n",
    "\n",
    "for file in text_files:\n",
    "    file_path = os.path.join(directory, file)\n",
    "    with open(file_path, \"r\") as f:\n",
    "        content = f.read().strip()\n",
    "        list_pdb.append(content)\n",
    "\n",
    "output_file = os.path.join(directory, \"list_file.txt\")\n",
    "\n",
    "with open(output_file, \"w\") as f:\n",
    "    f.write(\",\".join(list_pdb))  # Combine content with commas\n",
    "\n",
    "print(f\"Merged file saved as: {output_file}\")"
   ]
  }
 ],
 "metadata": {
  "kernelspec": {
   "display_name": "Python 3 (ipykernel)",
   "language": "python",
   "name": "python3"
  },
  "language_info": {
   "codemirror_mode": {
    "name": "ipython",
    "version": 3
   },
   "file_extension": ".py",
   "mimetype": "text/x-python",
   "name": "python",
   "nbconvert_exporter": "python",
   "pygments_lexer": "ipython3",
   "version": "3.12.2"
  }
 },
 "nbformat": 4,
 "nbformat_minor": 5
}

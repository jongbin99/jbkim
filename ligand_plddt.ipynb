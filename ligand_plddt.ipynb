{
 "cells": [
  {
   "cell_type": "code",
   "execution_count": 1,
   "id": "cbb28b4d-c3e2-4018-a211-609816cc9fd5",
   "metadata": {},
   "outputs": [],
   "source": [
    "import json\n",
    "import os\n",
    "import csv\n",
    "import shutil\n",
    "import glob\n",
    "import pandas as pd\n",
    "import matplotlib.pyplot as plt\n",
    "import numpy as np\n",
    "import seaborn as sns"
   ]
  },
  {
   "cell_type": "code",
   "execution_count": 5,
   "id": "87015b45-6c98-4043-9513-0a0a3446f924",
   "metadata": {},
   "outputs": [
    {
     "name": "stdout",
     "output_type": "stream",
     "text": [
      "\n",
      " All matching files have been moved to: /Users/JB/Rotation_bkslab/nonhits_ampc/JSON\n"
     ]
    }
   ],
   "source": [
    "root_directory = \"/Users/JB/Rotation_bkslab/nonhits_ampc/json_files\"  \n",
    "output_directory = \"/Users/JB/Rotation_bkslab/nonhits_ampc/JSON\"\n",
    "\n",
    "os.makedirs(output_directory, exist_ok=True)\n",
    "\n",
    "for subdir, _, files in os.walk(root_directory):\n",
    "    for file in files:\n",
    "        if file.endswith(\"_confidences.json\"):\n",
    "            source_path = os.path.join(subdir, file)\n",
    "            destination_path = os.path.join(output_directory, file)\n",
    "\n",
    "            new_filename = file.replace(\"_confidences\", \"\")\n",
    "            destination_path = os.path.join(output_directory, new_filename)\n",
    "\n",
    "            # Move the file to the new directory\n",
    "            shutil.move(source_path, destination_path)\n",
    "\n",
    "print(\"\\n All matching files have been moved to:\", output_directory)"
   ]
  },
  {
   "cell_type": "code",
   "execution_count": 6,
   "id": "cdef537b-dce2-4a02-b866-e27ac24e8246",
   "metadata": {},
   "outputs": [
    {
     "name": "stdout",
     "output_type": "stream",
     "text": [
      "[INFO] L-pLDDT results saved to /Users/JB/Rotation_bkslab/nonhits_ampc/ligand_plddt_nonhits.csv\n"
     ]
    }
   ],
   "source": [
    "# Input and Output directories\n",
    "input_dir = \"/Users/JB/Rotation_bkslab/nonhits_ampc/JSON\"\n",
    "output_dir = \"/Users/JB/Rotation_bkslab/nonhits_ampc/JSON_ligands\"\n",
    "csv_file = \"/Users/JB/Rotation_bkslab/nonhits_ampc/ligand_plddt_nonhits.csv\"\n",
    "os.makedirs(output_dir, exist_ok=True)\n",
    "\n",
    "total_plddt = []\n",
    "\n",
    "for json_file in glob.glob(os.path.join(input_dir, \"*.json\")):\n",
    "    with open(json_file, \"r\") as file:\n",
    "        data = json.load(file)\n",
    "    atom_chain_ids = data.get(\"atom_chain_ids\", [])\n",
    "    atom_plddts = data.get(\"atom_plddts\", [])\n",
    "    ref_prefix = os.path.splitext((os.path.basename(json_file)))[0]\n",
    "\n",
    "    filtered_chain_ids = []\n",
    "    filtered_plddts = []\n",
    "    \n",
    "    for chain_id, plddt in zip(atom_chain_ids, atom_plddts):\n",
    "        if chain_id == \"B\":\n",
    "            filtered_chain_ids.append(chain_id)\n",
    "            filtered_plddts.append(plddt)\n",
    "    \n",
    "    average_plddt = sum(filtered_plddts) / len(filtered_plddts) if filtered_plddts else 0\n",
    "    \n",
    "    data[\"atom_chain_ids\"] = filtered_chain_ids\n",
    "    data[\"atom_plddts\"] = filtered_plddts\n",
    "    data[\"average_plddt\"] = average_plddt\n",
    "    total_plddt.append([ref_prefix, average_plddt])\n",
    "    \n",
    "    # Generate the output file path\n",
    "    output_file_path = os.path.join(output_dir, os.path.basename(json_file))\n",
    "\n",
    "    # Save the modified JSON\n",
    "    with open(output_file_path, \"w\") as output_file:\n",
    "        json.dump(data, output_file, indent=4)\n",
    "\n",
    "# Save results to CSV\n",
    "with open(csv_file, \"w\", newline=\"\") as csvfile:\n",
    "    writer = csv.writer(csvfile)\n",
    "    writer.writerow([\"Ligand\", \"L-pLDDT\"])\n",
    "    writer.writerows(total_plddt)\n",
    "\n",
    "print(f\"[INFO] L-pLDDT results saved to {csv_file}\")"
   ]
  }
 ],
 "metadata": {
  "kernelspec": {
   "display_name": "Python 3 (ipykernel)",
   "language": "python",
   "name": "python3"
  },
  "language_info": {
   "codemirror_mode": {
    "name": "ipython",
    "version": 3
   },
   "file_extension": ".py",
   "mimetype": "text/x-python",
   "name": "python",
   "nbconvert_exporter": "python",
   "pygments_lexer": "ipython3",
   "version": "3.12.2"
  }
 },
 "nbformat": 4,
 "nbformat_minor": 5
}
